{
 "cells": [
  {
   "cell_type": "code",
   "execution_count": 1,
   "metadata": {
    "collapsed": true
   },
   "outputs": [],
   "source": [
    "import os\n",
    "import re\n",
    "%matplotlib inline\n",
    "import pandas as pd\n",
    "import matplotlib.pyplot as plt\n",
    "plt.rcParams['figure.figsize'] = (10, 6)"
   ]
  },
  {
   "cell_type": "code",
   "execution_count": 2,
   "metadata": {
    "collapsed": true
   },
   "outputs": [],
   "source": [
    "fitnesses_file = '../era-outs/jester-out-spea-4-1run/best_ind_binaries/archive-u1-run0/archive_fitnesses.log'"
   ]
  },
  {
   "cell_type": "code",
   "execution_count": 3,
   "metadata": {},
   "outputs": [
    {
     "data": {
      "text/plain": [
       "['Fitness: [0.20445623699542997 0.7445203811677115 0.27560847185835285]',\n",
       " 'Fitness: [0.20445623699542997 0.7445203811677115 0.27560847185835285]',\n",
       " 'Fitness: [0.20445623699542997 0.7445203811677115 0.27560847185835285]',\n",
       " 'Fitness: [0.20445623699542997 0.7445203811677115 0.27560847185835285]',\n",
       " 'Fitness: [0.20445623699542997 0.7445203811677115 0.27560847185835285]',\n",
       " 'Fitness: [0.20445623699542997 0.7445203811677115 0.27560847185835285]',\n",
       " 'Fitness: [0.20445623699542997 0.7445203811677115 0.27560847185835285]',\n",
       " 'Fitness: [0.20445623699542997 0.7445203811677115 0.27560847185835285]',\n",
       " 'Fitness: [0.20445623699542997 0.7445203811677115 0.27560847185835285]',\n",
       " 'Fitness: [0.20445623699542997 0.7445203811677115 0.27560847185835285]']"
      ]
     },
     "execution_count": 3,
     "metadata": {},
     "output_type": "execute_result"
    }
   ],
   "source": [
    "lines = !grep \"\\[\" {fitnesses_file}\n",
    "lines"
   ]
  },
  {
   "cell_type": "code",
   "execution_count": 4,
   "metadata": {},
   "outputs": [
    {
     "data": {
      "text/plain": [
       "[(0.20445623699542997, 0.7445203811677115, 0.27560847185835285),\n",
       " (0.20445623699542997, 0.7445203811677115, 0.27560847185835285),\n",
       " (0.20445623699542997, 0.7445203811677115, 0.27560847185835285),\n",
       " (0.20445623699542997, 0.7445203811677115, 0.27560847185835285),\n",
       " (0.20445623699542997, 0.7445203811677115, 0.27560847185835285),\n",
       " (0.20445623699542997, 0.7445203811677115, 0.27560847185835285),\n",
       " (0.20445623699542997, 0.7445203811677115, 0.27560847185835285),\n",
       " (0.20445623699542997, 0.7445203811677115, 0.27560847185835285),\n",
       " (0.20445623699542997, 0.7445203811677115, 0.27560847185835285),\n",
       " (0.20445623699542997, 0.7445203811677115, 0.27560847185835285)]"
      ]
     },
     "execution_count": 4,
     "metadata": {},
     "output_type": "execute_result"
    }
   ],
   "source": [
    "def extract_fitness_values(line):\n",
    "    value_strings = line[line.find('[') + 1:line.find(']')].split()\n",
    "    return tuple(float(s) for s in value_strings)\n",
    "\n",
    "fitness_values = [extract_fitness_values(line) for line in lines]\n",
    "fitness_values"
   ]
  },
  {
   "cell_type": "code",
   "execution_count": 5,
   "metadata": {},
   "outputs": [
    {
     "data": {
      "text/html": [
       "<div>\n",
       "<style>\n",
       "    .dataframe thead tr:only-child th {\n",
       "        text-align: right;\n",
       "    }\n",
       "\n",
       "    .dataframe thead th {\n",
       "        text-align: left;\n",
       "    }\n",
       "\n",
       "    .dataframe tbody tr th {\n",
       "        vertical-align: top;\n",
       "    }\n",
       "</style>\n",
       "<table border=\"1\" class=\"dataframe\">\n",
       "  <thead>\n",
       "    <tr style=\"text-align: right;\">\n",
       "      <th></th>\n",
       "      <th>map</th>\n",
       "      <th>epc</th>\n",
       "      <th>eild</th>\n",
       "    </tr>\n",
       "  </thead>\n",
       "  <tbody>\n",
       "    <tr>\n",
       "      <th>0</th>\n",
       "      <td>0.204456</td>\n",
       "      <td>0.74452</td>\n",
       "      <td>0.275608</td>\n",
       "    </tr>\n",
       "    <tr>\n",
       "      <th>1</th>\n",
       "      <td>0.204456</td>\n",
       "      <td>0.74452</td>\n",
       "      <td>0.275608</td>\n",
       "    </tr>\n",
       "    <tr>\n",
       "      <th>2</th>\n",
       "      <td>0.204456</td>\n",
       "      <td>0.74452</td>\n",
       "      <td>0.275608</td>\n",
       "    </tr>\n",
       "    <tr>\n",
       "      <th>3</th>\n",
       "      <td>0.204456</td>\n",
       "      <td>0.74452</td>\n",
       "      <td>0.275608</td>\n",
       "    </tr>\n",
       "    <tr>\n",
       "      <th>4</th>\n",
       "      <td>0.204456</td>\n",
       "      <td>0.74452</td>\n",
       "      <td>0.275608</td>\n",
       "    </tr>\n",
       "    <tr>\n",
       "      <th>5</th>\n",
       "      <td>0.204456</td>\n",
       "      <td>0.74452</td>\n",
       "      <td>0.275608</td>\n",
       "    </tr>\n",
       "    <tr>\n",
       "      <th>6</th>\n",
       "      <td>0.204456</td>\n",
       "      <td>0.74452</td>\n",
       "      <td>0.275608</td>\n",
       "    </tr>\n",
       "    <tr>\n",
       "      <th>7</th>\n",
       "      <td>0.204456</td>\n",
       "      <td>0.74452</td>\n",
       "      <td>0.275608</td>\n",
       "    </tr>\n",
       "    <tr>\n",
       "      <th>8</th>\n",
       "      <td>0.204456</td>\n",
       "      <td>0.74452</td>\n",
       "      <td>0.275608</td>\n",
       "    </tr>\n",
       "    <tr>\n",
       "      <th>9</th>\n",
       "      <td>0.204456</td>\n",
       "      <td>0.74452</td>\n",
       "      <td>0.275608</td>\n",
       "    </tr>\n",
       "  </tbody>\n",
       "</table>\n",
       "</div>"
      ],
      "text/plain": [
       "        map      epc      eild\n",
       "0  0.204456  0.74452  0.275608\n",
       "1  0.204456  0.74452  0.275608\n",
       "2  0.204456  0.74452  0.275608\n",
       "3  0.204456  0.74452  0.275608\n",
       "4  0.204456  0.74452  0.275608\n",
       "5  0.204456  0.74452  0.275608\n",
       "6  0.204456  0.74452  0.275608\n",
       "7  0.204456  0.74452  0.275608\n",
       "8  0.204456  0.74452  0.275608\n",
       "9  0.204456  0.74452  0.275608"
      ]
     },
     "execution_count": 5,
     "metadata": {},
     "output_type": "execute_result"
    }
   ],
   "source": [
    "frame = pd.DataFrame.from_records(fitness_values, columns=('map', 'epc', 'eild'))\n",
    "frame"
   ]
  },
  {
   "cell_type": "code",
   "execution_count": 6,
   "metadata": {},
   "outputs": [
    {
     "data": {
      "text/plain": [
       "<matplotlib.axes._subplots.AxesSubplot at 0x7f208ff5c518>"
      ]
     },
     "execution_count": 6,
     "metadata": {},
     "output_type": "execute_result"
    },
    {
     "data": {
      "image/png": "[encoded data removed]",
      "text/plain": [
       "<matplotlib.figure.Figure at 0x7f209a7d07f0>"
      ]
     },
     "metadata": {},
     "output_type": "display_data"
    }
   ],
   "source": [
    "frame.plot.scatter('map', 'epc')"
   ]
  },
  {
   "cell_type": "code",
   "execution_count": null,
   "metadata": {
    "collapsed": true
   },
   "outputs": [],
   "source": []
  },
  {
   "cell_type": "code",
   "execution_count": null,
   "metadata": {
    "collapsed": true
   },
   "outputs": [],
   "source": []
  }
 ],
 "metadata": {
  "kernelspec": {
   "display_name": "Python 3",
   "language": "python",
   "name": "python3"
  },
  "language_info": {
   "codemirror_mode": {
    "name": "ipython",
    "version": 3
   },
   "file_extension": ".py",
   "mimetype": "text/x-python",
   "name": "python",
   "nbconvert_exporter": "python",
   "pygments_lexer": "ipython3",
   "version": "3.6.2"
  }
 },
 "nbformat": 4,
 "nbformat_minor": 2
}
