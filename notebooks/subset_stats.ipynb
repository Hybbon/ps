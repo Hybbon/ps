{
 "cells": [
  {
   "cell_type": "code",
   "execution_count": 57,
   "metadata": {
    "collapsed": true
   },
   "outputs": [],
   "source": [
    "import os\n",
    "import re\n",
    "%matplotlib inline\n",
    "import pandas as pd\n",
    "import matplotlib as mpl\n",
    "import matplotlib.pyplot as plt\n",
    "import seaborn as sns\n",
    "from mpl_toolkits.mplot3d import Axes3D\n",
    "plt.rcParams['figure.figsize'] = (10, 6)\n",
    "mpl.rc('font', size=15.)"
   ]
  },
  {
   "cell_type": "code",
   "execution_count": 58,
   "metadata": {
    "collapsed": true
   },
   "outputs": [],
   "source": [
    "f = pd.read_csv('../era-outs/ml-1m-u1-distances/kendall_samuel.csv', index_col=0)"
   ]
  },
  {
   "cell_type": "code",
   "execution_count": 59,
   "metadata": {
    "collapsed": true
   },
   "outputs": [],
   "source": [
    "subsets = {\n",
    "    2: ['u1-CofiRank.out', 'u1-FISM_librec.out'],\n",
    "    3: ['u1-CofiRank.out', 'u1-ItemKNN.out', 'u1-FISM_librec.out'],\n",
    "    4: ['u1-CofiRank.out', 'u1-ItemKNN.out', 'u1-SoftMarginRankingMF.out', 'u1-FISM_librec.out'],\n",
    "    5: ['u1-CofiRank.out', 'u1-ItemKNN.out', 'u1-SoftMarginRankingMF.out', 'u1-MostPopular.out', 'u1-FISM_librec.out'],\n",
    "    6: ['u1-BPRSLIM.out', 'u1-CofiRank.out', 'u1-ItemKNN.out', 'u1-SoftMarginRankingMF.out', 'u1-MostPopular.out', 'u1-FISM_librec.out'],\n",
    "    7: ['u1-BPRSLIM.out', 'u1-CofiRank.out', 'u1-ItemKNN.out', 'u1-SoftMarginRankingMF.out', 'u1-MostPopular.out', 'u1-RankALS_librec.out', 'u1-FISM_librec.out'],\n",
    "    8: ['u1-BPRSLIM.out', 'u1-MultiCoreBPRMF.out', 'u1-CofiRank.out', 'u1-ItemKNN.out', 'u1-SoftMarginRankingMF.out', 'u1-MostPopular.out', 'u1-FISM_librec.out', 'u1-LeastSquareSLIM.out'],\n",
    "    9: ['u1-BPRSLIM.out', 'u1-Poisson.out', 'u1-MultiCoreBPRMF.out', 'u1-CofiRank.out', 'u1-ItemKNN.out', 'u1-SoftMarginRankingMF.out', 'u1-MostPopular.out', 'u1-FISM_librec.out', 'u1-LeastSquareSLIM.out'],\n",
    "    10: ['u1-BPRSLIM.out', 'u1-Poisson.out', 'u1-MultiCoreBPRMF.out', 'u1-CofiRank.out', 'u1-ItemKNN.out', 'u1-SoftMarginRankingMF.out', 'u1-MostPopular.out', 'u1-RankALS_librec.out', 'u1-FISM_librec.out', 'u1-LeastSquareSLIM.out'],\n",
    "    11: ['u1-BPRSLIM.out', 'u1-Poisson.out', 'u1-MultiCoreBPRMF.out', 'u1-CofiRank.out', 'u1-ItemKNN.out', 'u1-SoftMarginRankingMF.out', 'u1-MostPopular.out', 'u1-RankALS_librec.out', 'u1-libfm.out', 'u1-FISM_librec.out', 'u1-LeastSquareSLIM.out'],\n",
    "    12: ['u1-CoFactor.out', 'u1-BPRSLIM.out', 'u1-Poisson.out', 'u1-MultiCoreBPRMF.out', 'u1-CofiRank.out', 'u1-ItemKNN.out', 'u1-SoftMarginRankingMF.out', 'u1-MostPopular.out', 'u1-RankALS_librec.out', 'u1-libfm.out', 'u1-FISM_librec.out', 'u1-LeastSquareSLIM.out'],\n",
    "    13: ['u1-CoFactor.out', 'u1-BPRSLIM.out', 'u1-Poisson.out', 'u1-MultiCoreBPRMF.out', 'u1-CofiRank.out', 'u1-ItemKNN.out', 'u1-SoftMarginRankingMF.out', 'u1-MostPopular.out', 'u1-LDA_librec.out', 'u1-RankALS_librec.out', 'u1-libfm.out', 'u1-FISM_librec.out', 'u1-LeastSquareSLIM.out'],\n",
    "    14: ['u1-CoFactor.out', 'u1-BPRSLIM.out', 'u1-Poisson.out', 'u1-MultiCoreBPRMF.out', 'u1-CofiRank.out', 'u1-WRMF.out', 'u1-ItemKNN.out', 'u1-SoftMarginRankingMF.out', 'u1-MostPopular.out', 'u1-LDA_librec.out', 'u1-RankALS_librec.out', 'u1-libfm.out', 'u1-FISM_librec.out', 'u1-LeastSquareSLIM.out'],\n",
    "}"
   ]
  },
  {
   "cell_type": "code",
   "execution_count": 67,
   "metadata": {
    "collapsed": true
   },
   "outputs": [],
   "source": [
    "def plot_for_subset(f, subset):\n",
    "    subset_distances = f[subset].loc[subset]\n",
    "    subset_means = subset_distances.sum() / (len(subset) - 1)\n",
    "    global_means = f[subset].sum() / (len(f) - 1)\n",
    "    means = pd.DataFrame({'subset_means': subset_means, 'global_means': global_means})\n",
    "    means.plot.bar()\n",
    "    return means"
   ]
  },
  {
   "cell_type": "code",
   "execution_count": 68,
   "metadata": {},
   "outputs": [
    {
     "name": "stdout",
     "output_type": "stream",
     "text": [
      "mkdir: cannot create directory ‘subset-means’: File exists\n",
      "mkdir: cannot create directory ‘subset-means/charts’: File exists\n",
      "mkdir: cannot create directory ‘subset-means/csvs’: File exists\n"
     ]
    },
    {
     "data": {
      "text/plain": [
       "<matplotlib.figure.Figure at 0x7fea680a0a90>"
      ]
     },
     "metadata": {},
     "output_type": "display_data"
    },
    {
     "data": {
      "text/plain": [
       "<matplotlib.figure.Figure at 0x7fea68d12358>"
      ]
     },
     "metadata": {},
     "output_type": "display_data"
    },
    {
     "data": {
      "text/plain": [
       "<matplotlib.figure.Figure at 0x7fea68a1bdd8>"
      ]
     },
     "metadata": {},
     "output_type": "display_data"
    },
    {
     "data": {
      "text/plain": [
       "<matplotlib.figure.Figure at 0x7fea708a65f8>"
      ]
     },
     "metadata": {},
     "output_type": "display_data"
    },
    {
     "data": {
      "text/plain": [
       "<matplotlib.figure.Figure at 0x7fea708b3be0>"
      ]
     },
     "metadata": {},
     "output_type": "display_data"
    },
    {
     "data": {
      "text/plain": [
       "<matplotlib.figure.Figure at 0x7fea68b0eb00>"
      ]
     },
     "metadata": {},
     "output_type": "display_data"
    },
    {
     "data": {
      "text/plain": [
       "<matplotlib.figure.Figure at 0x7fea71000748>"
      ]
     },
     "metadata": {},
     "output_type": "display_data"
    },
    {
     "data": {
      "text/plain": [
       "<matplotlib.figure.Figure at 0x7fea713a90f0>"
      ]
     },
     "metadata": {},
     "output_type": "display_data"
    },
    {
     "data": {
      "text/plain": [
       "<matplotlib.figure.Figure at 0x7fea681d5fd0>"
      ]
     },
     "metadata": {},
     "output_type": "display_data"
    },
    {
     "data": {
      "text/plain": [
       "<matplotlib.figure.Figure at 0x7fea681bb6d8>"
      ]
     },
     "metadata": {},
     "output_type": "display_data"
    },
    {
     "data": {
      "text/plain": [
       "<matplotlib.figure.Figure at 0x7fea68805e10>"
      ]
     },
     "metadata": {},
     "output_type": "display_data"
    },
    {
     "data": {
      "text/plain": [
       "<matplotlib.figure.Figure at 0x7fea68338550>"
      ]
     },
     "metadata": {},
     "output_type": "display_data"
    },
    {
     "data": {
      "text/plain": [
       "<matplotlib.figure.Figure at 0x7fea683dbda0>"
      ]
     },
     "metadata": {},
     "output_type": "display_data"
    }
   ],
   "source": [
    "!mkdir subset-means\n",
    "!mkdir subset-means/charts\n",
    "!mkdir subset-means/csvs\n",
    "for n, subset in subsets.items():\n",
    "    means_frame = plot_for_subset(f, subset)\n",
    "    plt.tight_layout()\n",
    "    plt.savefig(f'subset-means/charts/means-{n}.png')\n",
    "    plt.clf()\n",
    "    means_frame.to_csv(f'subset-means/csvs/means-{n}.csv')"
   ]
  },
  {
   "cell_type": "code",
   "execution_count": null,
   "metadata": {
    "collapsed": true
   },
   "outputs": [],
   "source": []
  }
 ],
 "metadata": {
  "kernelspec": {
   "display_name": "Python 3",
   "language": "python",
   "name": "python3"
  },
  "language_info": {
   "codemirror_mode": {
    "name": "ipython",
    "version": 3
   },
   "file_extension": ".py",
   "mimetype": "text/x-python",
   "name": "python",
   "nbconvert_exporter": "python",
   "pygments_lexer": "ipython3",
   "version": "3.6.3"
  }
 },
 "nbformat": 4,
 "nbformat_minor": 2
}
